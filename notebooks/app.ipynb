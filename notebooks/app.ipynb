{
 "cells": [
  {
   "cell_type": "code",
   "execution_count": null,
   "metadata": {
    "pycharm": {
     "is_executing": true
    }
   },
   "outputs": [],
   "source": [
    "import jupyter\n",
    "import ipywidgets as widgets\n",
    "import numpy as np\n",
    "import pandas as pd\n",
    "from scipy import stats\n",
    "from sklearn import model_selection\n",
    "from sklearn.preprocessing import PowerTransformer\n",
    "from sklearn.ensemble import RandomForestRegressor"
   ]
  },
  {
   "cell_type": "code",
   "execution_count": null,
   "outputs": [],
   "source": [
    "# MODEL CREATION\n",
    "\n",
    "# DATA HANDLING\n",
    "# Get dataset\n",
    "url = \"https://raw.githubusercontent.com/JPeej/BodyFatCSV/main/bodyfat.csv\"\n",
    "df = pd.read_csv(url, sep=\",\")\n",
    "\n",
    "# Drop unnecessary columns\n",
    "df.drop(labels=\"Density\", axis=1, inplace=True)\n",
    "\n",
    "# Delete any rows with null values, no values are found but good practice if CSV is updated\n",
    "df.dropna()\n",
    "\n",
    "# Delete any duplicate entries, no values are found but good practice if CSV is updated\n",
    "df.drop_duplicates()\n",
    "\n",
    "# Drop entries with an outlier value\n",
    "z_score = np.abs(stats.zscore(df))\n",
    "df = df[(z_score < 3).all(axis=1)]\n",
    "\n",
    "# Remove measurements that have weak correlation with bodyfat\n",
    "df.drop(columns=['Height', 'Ankle', 'Wrist', 'Age'], axis=1, inplace=True)\n",
    "\n",
    "# DEVELOP  MODEL\n",
    "regressor = RandomForestRegressor(n_estimators=100, random_state=0)\n",
    "\n",
    "# Get dependent(y, bodyfat) and independent(x, measurements) variables from split data\n",
    "bodyfatIndex = df.columns.get_loc(\"BodyFat\")\n",
    "x_measurements = df.values[:, bodyfatIndex + 1:]\n",
    "y_bodyfat = df.values[:, bodyfatIndex]\n",
    "x_train, x_test, y_train, y_test = model_selection.train_test_split(x_measurements, y_bodyfat, test_size=0.2)\n",
    "\n",
    "# Apply Yeo-Johnson Transformer\n",
    "pt = PowerTransformer()\n",
    "x_train = pt.fit_transform(x_train)\n",
    "x_test = pt.transform(x_test)\n",
    "\n",
    "# Train the model\n",
    "regressor.fit(x_train, y_train);"
   ],
   "metadata": {
    "collapsed": false
   }
  },
  {
   "cell_type": "code",
   "execution_count": null,
   "metadata": {},
   "outputs": [],
   "source": [
    "# USER INPUTS\n",
    "\n",
    "weight = widgets.BoundedFloatText(\n",
    "    min=0.0,\n",
    "    max=400.0,\n",
    "    disabled=False,\n",
    "    continuous_update=True,\n",
    ")\n",
    "neck = widgets.BoundedFloatText(\n",
    "    min=0.0,\n",
    "    max=400.0,\n",
    "    disabled=False,\n",
    "    continuous_update=True\n",
    ")\n",
    "chest = widgets.BoundedFloatText(\n",
    "    min=0.0,\n",
    "    max=400.0,\n",
    "    disabled=False,\n",
    "    continuous_update=True\n",
    ")\n",
    "abdomen = widgets.BoundedFloatText(\n",
    "    min=0.0,\n",
    "    max=400.0,\n",
    "    disabled=False,\n",
    "    continuous_update=True\n",
    ")\n",
    "hip = widgets.BoundedFloatText(\n",
    "    min=0.0,\n",
    "    max=400.0,\n",
    "    disabled=False,\n",
    "    continuous_update=True\n",
    ")\n",
    "thigh = widgets.BoundedFloatText(\n",
    "    min=0.0,\n",
    "    max=400.0,\n",
    "    disabled=False,\n",
    "    continuous_update=True\n",
    ")\n",
    "knee = widgets.BoundedFloatText(\n",
    "    min=0.0,\n",
    "    max=400.0,\n",
    "    disabled=False,\n",
    "    continuous_update=True\n",
    ")\n",
    "bicep = widgets.BoundedFloatText(\n",
    "    min=0.0,\n",
    "    max=400.0,\n",
    "    disabled=False,\n",
    "    continuous_update=True\n",
    ")\n",
    "forearm = widgets.BoundedFloatText(\n",
    "    min=0.0,\n",
    "    max=400.0,\n",
    "    disabled=False,\n",
    "    continuous_update=True\n",
    ")"
   ]
  },
  {
   "cell_type": "code",
   "execution_count": null,
   "outputs": [],
   "source": [
    "# SUBMIT BUTTON\n",
    "\n",
    "submit_output = widgets.Label(\"Estimated bodyfat = xx.xx\")\n",
    "\n",
    "def on_submit_clicked(button):\n",
    "    metrics = [[weight.value, neck.value, chest.value, abdomen.value, hip.value, thigh.value, knee.value, bicep.value, forearm.value]]\n",
    "    bodyfat = regressor.predict(metrics)\n",
    "    submit_output.value = f\"Estimated bodyfat = {bodyfat}\"\n",
    "\n",
    "submit_button = widgets.Button(description='Click for results')\n",
    "submit_button.on_click(on_submit_clicked)"
   ],
   "metadata": {
    "collapsed": false
   }
  },
  {
   "cell_type": "code",
   "execution_count": null,
   "outputs": [],
   "source": [
    "widgets.AppLayout\\\n",
    "    (header=print('\\033[1m' + \"Body Fat Estimator\\nThis app provides an estimation of the user's body fat percentage based upon their body metric inputs.\\nInput the metrics required below in numeric values only.\\nOnce complete, click the submit button. Upon submit, the algorithm will determine the user's estimated body fat percentage and display it.\\nIf the user wishes to try again please refresh the page.\" + '\\033[1m'),\n",
    "    left_sidebar=widgets.VBox(\n",
    "        [widgets.Label('Weight in lb : ', layout=widgets.Layout(height='36px')),\n",
    "         widgets.Label('Neck circumference in cm : ', layout=widgets.Layout(height='36px')),\n",
    "         widgets.Label('Chest circumference in cm : ',layout=widgets.Layout(height='36px')),\n",
    "         widgets.Label('Abdomen circumference in cm : ', layout=widgets.Layout(height='36px')),\n",
    "         widgets.Label('Hip circumference in cm : ', layout=widgets.Layout(height='36px')),\n",
    "         widgets.Label('Thigh circumference in cm : ', layout=widgets.Layout(height='36px')),\n",
    "         widgets.Label('Knee circumference in cm : ', layout=widgets.Layout(height='36px')),\n",
    "         widgets.Label('Bicep circumference in cm : ', layout=widgets.Layout(height='36px')),\n",
    "         widgets.Label('Forearm circumference in cm : ', layout=widgets.Layout(height='36px'))]),\n",
    "      center=widgets.VBox([weight, neck, chest, abdomen, hip, thigh, knee, bicep, forearm]),\n",
    "      right_sidebar=widgets.VBox([submit_button, submit_output]),\n",
    "      footer=None)"
   ],
   "metadata": {
    "collapsed": false
   }
  }
 ],
 "metadata": {
  "kernelspec": {
   "display_name": "Python 3 (ipykernel)",
   "language": "python",
   "name": "python3"
  },
  "language_info": {
   "codemirror_mode": {
    "name": "ipython",
    "version": 3
   },
   "file_extension": ".py",
   "mimetype": "text/x-python",
   "name": "python",
   "nbconvert_exporter": "python",
   "pygments_lexer": "ipython3",
   "version": "3.11.1"
  }
 },
 "nbformat": 4,
 "nbformat_minor": 1
}
